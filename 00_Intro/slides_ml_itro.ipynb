{
 "cells": [
  {
   "cell_type": "markdown",
   "metadata": {
    "slideshow": {
     "slide_type": "slide"
    }
   },
   "source": [
    "# ML Intro\n",
    "\n",
    "## By Edy Stein"
   ]
  },
  {
   "cell_type": "markdown",
   "metadata": {
    "slideshow": {
     "slide_type": "slide"
    }
   },
   "source": [
    "Agenda\n",
    "* Who coined the term ML and when we use that\n",
    "* ML mind map: Examples for ML problems and techniques\n",
    "* Sessions outline:"
   ]
  },
  {
   "cell_type": "markdown",
   "metadata": {
    "slideshow": {
     "slide_type": "slide"
    }
   },
   "source": [
    "# Arthur Samuel: first coined the term machine learning (ML) in 1959?\n",
    "<img src=\"images/Arthur_Samuel.jpg\">\n",
    "<img src=\"images/checkers.jpg\">\n",
    "https://en.wikipedia.org/wiki/Arthur_Samuel"
   ]
  },
  {
   "cell_type": "markdown",
   "metadata": {
    "slideshow": {
     "slide_type": "notes"
    }
   },
   "source": [
    "Graduated MIT and joined IBM in the 40ts.\n",
    "\n",
    "The main driver of the machine was a search tree of the board positions reachable from the current state. \n",
    "Since he had only a very limited memory, Instead of searching each path until it came to the game’s conclusion, \n",
    "Samuel developed a scoring function based on the position of the board at any given time. \n",
    "This function tried to measure the chance of winning for each side at the given position. \n",
    "It took into account such things as the number of pieces on each side, the number of kings, and the proximity of pieces to being “kinged”. \n",
    "The program chose its move based on a minimax strategy, meaning it made the move that optimized the value of this function, assuming that the opponent was trying to optimize the value of the same function \n",
    "from its point of view.[12]\n",
    "\n",
    "Samuel also designed various mechanisms by which his program could become better. In what he called rote learning, the program remembered every position it had already seen, along with the terminal value of the reward function. This technique effectively extended the search depth at each of these positions. Samuel's later programs reevaluated the reward function based on input from professional games. He also had it play thousands of games against itself as another way of learning. With all of this work, Samuel’s program reached a respectable amateur status, and was the first to play any board game at this high a level. He continued to work on checkers until the mid-1970s, at which point his program achieved sufficient skill to challenge a respectable amateur.[13]"
   ]
  },
  {
   "cell_type": "markdown",
   "metadata": {
    "slideshow": {
     "slide_type": "slide"
    }
   },
   "source": [
    "# Mind map:\n",
    "* Issues\n",
    "* Workflow\n",
    "* Tools\n",
    "\n",
    "\n",
    "\n",
    "\n",
    "https://machinelearningmastery.com/a-tour-of-machine-learning-algorithms/"
   ]
  },
  {
   "cell_type": "markdown",
   "metadata": {
    "slideshow": {
     "slide_type": "subslide"
    }
   },
   "source": [
    "## ML mindmap: Issues - Classification\n",
    "* Who \"would\" survive the Titanic?\n",
    "* Is a patient healthy or sick?\n",
    "* Is passport legit or forged?\n",
    "<img src=\"images/Titanic-collide-on-iceberg-ship-sea.jpg\">\n"
   ]
  },
  {
   "cell_type": "markdown",
   "metadata": {
    "slideshow": {
     "slide_type": "subslide"
    }
   },
   "source": [
    "## ML mindmap: Issues - Regression\n",
    "* predict house price\n",
    "* How many hours a medicine affects\n",
    "<img src=\"images/ml-house-prices-regression-example.png\">\n"
   ]
  },
  {
   "cell_type": "markdown",
   "metadata": {
    "slideshow": {
     "slide_type": "subslide"
    }
   },
   "source": [
    "## ML mindmap: Issues - Clustering\n",
    "* cluster neurons by their charectaristics\n",
    "<img src=\"images/neuron_clusterring.jpg\">"
   ]
  },
  {
   "cell_type": "markdown",
   "metadata": {
    "slideshow": {
     "slide_type": "subslide"
    }
   },
   "source": [
    "## ML mindmap: Issues - Image Recognition / NLP\n",
    "<img src=\"images/AlexClassification.png\">\n",
    "\n",
    "https://www.tensorflow.org/tutorials/image_recognition"
   ]
  },
  {
   "cell_type": "markdown",
   "metadata": {
    "slideshow": {
     "slide_type": "slide"
    }
   },
   "source": [
    "## ML mindmap: Typical ML workflow\n",
    "<img src=\"images/ml-workflow.jpg\">"
   ]
  },
  {
   "cell_type": "markdown",
   "metadata": {
    "slideshow": {
     "slide_type": "slide"
    }
   },
   "source": [
    "## ML mind map: tools\n",
    "<img src=\"images/ml_map.png\">\n",
    "\n",
    "http://scikit-learn.org/stable/tutorial/machine_learning_map/index.html"
   ]
  },
  {
   "cell_type": "markdown",
   "metadata": {
    "slideshow": {
     "slide_type": "subslide"
    }
   },
   "source": [
    "## ML mind map: tools cont Advanced NN for image recognition & NLP"
   ]
  },
  {
   "cell_type": "markdown",
   "metadata": {
    "slideshow": {
     "slide_type": "slide"
    }
   },
   "source": [
    "# Sessions outline\n",
    "* Intro (this session)\n",
    "* Would you survive the Titanic: ML workflow and classification\n",
    "* Would you survive the Titanic: classification with scikit (decision trees, random forests, confusion matrix...)\n",
    "* TBD: basic NN: perceptron / MNIST, regression: gradient descent, clustering (K-means)"
   ]
  },
  {
   "cell_type": "markdown",
   "metadata": {
    "slideshow": {
     "slide_type": "notes"
    }
   },
   "source": [
    "* convert to slide show\n",
    "jupyter nbconvert slides_ml_itro.ipynb --to slides --post serve\n",
    "* nb convert:https://github.com/jupyter/nbconvert/blob/master/docs/source/usage.rst\n",
    "* "
   ]
  }
 ],
 "metadata": {
  "celltoolbar": "Slideshow",
  "kernelspec": {
   "display_name": "Python 3",
   "language": "python",
   "name": "python3"
  },
  "language_info": {
   "codemirror_mode": {
    "name": "ipython",
    "version": 3
   },
   "file_extension": ".py",
   "mimetype": "text/x-python",
   "name": "python",
   "nbconvert_exporter": "python",
   "pygments_lexer": "ipython3",
   "version": "3.6.3"
  }
 },
 "nbformat": 4,
 "nbformat_minor": 2
}
